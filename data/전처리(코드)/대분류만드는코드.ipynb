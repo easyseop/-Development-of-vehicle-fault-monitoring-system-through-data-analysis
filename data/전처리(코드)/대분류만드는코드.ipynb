{
 "cells": [
  {
   "cell_type": "code",
   "execution_count": 2,
   "metadata": {},
   "outputs": [],
   "source": [
    "import pickle \n",
    "import pandas as pd"
   ]
  },
  {
   "cell_type": "code",
   "execution_count": 5,
   "metadata": {},
   "outputs": [],
   "source": [
    "df_rcl1 = pd.read_excel('전처리완료1.xlsx')"
   ]
  },
  {
   "cell_type": "code",
   "execution_count": 6,
   "metadata": {},
   "outputs": [],
   "source": [
    "df_rcl2 = pd.read_excel('전처리완료2.xlsx')"
   ]
  },
  {
   "cell_type": "code",
   "execution_count": 7,
   "metadata": {},
   "outputs": [
    {
     "data": {
      "text/html": [
       "<div>\n",
       "<style scoped>\n",
       "    .dataframe tbody tr th:only-of-type {\n",
       "        vertical-align: middle;\n",
       "    }\n",
       "\n",
       "    .dataframe tbody tr th {\n",
       "        vertical-align: top;\n",
       "    }\n",
       "\n",
       "    .dataframe thead th {\n",
       "        text-align: right;\n",
       "    }\n",
       "</style>\n",
       "<table border=\"1\" class=\"dataframe\">\n",
       "  <thead>\n",
       "    <tr style=\"text-align: right;\">\n",
       "      <th></th>\n",
       "      <th>Unnamed: 0</th>\n",
       "      <th>CMPLID</th>\n",
       "      <th>MAKE</th>\n",
       "      <th>MODEL</th>\n",
       "      <th>YEAR</th>\n",
       "      <th>COMP_NAME</th>\n",
       "      <th>INJURED</th>\n",
       "      <th>DEATHS</th>\n",
       "      <th>DATEA</th>\n",
       "      <th>LDATE</th>\n",
       "      <th>MILES</th>\n",
       "      <th>CDESCR</th>\n",
       "      <th>PROD_TYPE</th>\n",
       "      <th>label</th>\n",
       "      <th>inv_date</th>\n",
       "    </tr>\n",
       "  </thead>\n",
       "  <tbody>\n",
       "    <tr>\n",
       "      <th>0</th>\n",
       "      <td>0</td>\n",
       "      <td>1</td>\n",
       "      <td>VOLVO</td>\n",
       "      <td>760</td>\n",
       "      <td>1987</td>\n",
       "      <td>ENGINE AND ENGINE COOLING:COOLING SYSTEM:RADIA...</td>\n",
       "      <td>0</td>\n",
       "      <td>0</td>\n",
       "      <td>19950103</td>\n",
       "      <td>19950103</td>\n",
       "      <td>77389.203647</td>\n",
       "      <td>RADIATOR FAILED @ HIGHWAY SPEED OBSTRUCTING DR...</td>\n",
       "      <td>V</td>\n",
       "      <td>0</td>\n",
       "      <td>0</td>\n",
       "    </tr>\n",
       "    <tr>\n",
       "      <th>1</th>\n",
       "      <td>1</td>\n",
       "      <td>2</td>\n",
       "      <td>FORD</td>\n",
       "      <td>THUNDERBIRD</td>\n",
       "      <td>1992</td>\n",
       "      <td>FUEL SYSTEM, GASOLINE:DELIVERY</td>\n",
       "      <td>0</td>\n",
       "      <td>0</td>\n",
       "      <td>19950103</td>\n",
       "      <td>19950103</td>\n",
       "      <td>56455.172906</td>\n",
       "      <td>FUEL LEAKED FROM FUEL TANK AREA, EMITTING STRO...</td>\n",
       "      <td>V</td>\n",
       "      <td>0</td>\n",
       "      <td>0</td>\n",
       "    </tr>\n",
       "    <tr>\n",
       "      <th>2</th>\n",
       "      <td>2</td>\n",
       "      <td>3</td>\n",
       "      <td>KIA</td>\n",
       "      <td>SEPHIA</td>\n",
       "      <td>1994</td>\n",
       "      <td>POWER TRAIN:AUTOMATIC TRANSMISSION</td>\n",
       "      <td>0</td>\n",
       "      <td>0</td>\n",
       "      <td>19950103</td>\n",
       "      <td>19950103</td>\n",
       "      <td>66395.043027</td>\n",
       "      <td>SHIFTED INTO REVERSE VEHICLE JERKED VIOLENTLY....</td>\n",
       "      <td>V</td>\n",
       "      <td>0</td>\n",
       "      <td>0</td>\n",
       "    </tr>\n",
       "    <tr>\n",
       "      <th>3</th>\n",
       "      <td>3</td>\n",
       "      <td>4</td>\n",
       "      <td>DODGE</td>\n",
       "      <td>600</td>\n",
       "      <td>1987</td>\n",
       "      <td>FUEL SYSTEM, GASOLINE:STORAGE:TANK ASSEMBLY</td>\n",
       "      <td>0</td>\n",
       "      <td>0</td>\n",
       "      <td>19950103</td>\n",
       "      <td>19950103</td>\n",
       "      <td>69829.928833</td>\n",
       "      <td>FUEL TANK ; LEAKS BECAUSE OF RUST GAS LEAK BY ...</td>\n",
       "      <td>V</td>\n",
       "      <td>0</td>\n",
       "      <td>0</td>\n",
       "    </tr>\n",
       "    <tr>\n",
       "      <th>4</th>\n",
       "      <td>4</td>\n",
       "      <td>5</td>\n",
       "      <td>DODGE</td>\n",
       "      <td>CARAVAN</td>\n",
       "      <td>1991</td>\n",
       "      <td>SEATS</td>\n",
       "      <td>0</td>\n",
       "      <td>0</td>\n",
       "      <td>19950103</td>\n",
       "      <td>19950103</td>\n",
       "      <td>75165.133801</td>\n",
       "      <td>DRIVER SIDE SEAT FRAME BROKE IN TWO, CAUSING S...</td>\n",
       "      <td>V</td>\n",
       "      <td>0</td>\n",
       "      <td>0</td>\n",
       "    </tr>\n",
       "  </tbody>\n",
       "</table>\n",
       "</div>"
      ],
      "text/plain": [
       "   Unnamed: 0  CMPLID   MAKE        MODEL  YEAR  \\\n",
       "0           0       1  VOLVO          760  1987   \n",
       "1           1       2   FORD  THUNDERBIRD  1992   \n",
       "2           2       3    KIA       SEPHIA  1994   \n",
       "3           3       4  DODGE          600  1987   \n",
       "4           4       5  DODGE      CARAVAN  1991   \n",
       "\n",
       "                                           COMP_NAME  INJURED  DEATHS  \\\n",
       "0  ENGINE AND ENGINE COOLING:COOLING SYSTEM:RADIA...        0       0   \n",
       "1                     FUEL SYSTEM, GASOLINE:DELIVERY        0       0   \n",
       "2                 POWER TRAIN:AUTOMATIC TRANSMISSION        0       0   \n",
       "3        FUEL SYSTEM, GASOLINE:STORAGE:TANK ASSEMBLY        0       0   \n",
       "4                                              SEATS        0       0   \n",
       "\n",
       "      DATEA     LDATE         MILES  \\\n",
       "0  19950103  19950103  77389.203647   \n",
       "1  19950103  19950103  56455.172906   \n",
       "2  19950103  19950103  66395.043027   \n",
       "3  19950103  19950103  69829.928833   \n",
       "4  19950103  19950103  75165.133801   \n",
       "\n",
       "                                              CDESCR PROD_TYPE  label  \\\n",
       "0  RADIATOR FAILED @ HIGHWAY SPEED OBSTRUCTING DR...         V      0   \n",
       "1  FUEL LEAKED FROM FUEL TANK AREA, EMITTING STRO...         V      0   \n",
       "2  SHIFTED INTO REVERSE VEHICLE JERKED VIOLENTLY....         V      0   \n",
       "3  FUEL TANK ; LEAKS BECAUSE OF RUST GAS LEAK BY ...         V      0   \n",
       "4  DRIVER SIDE SEAT FRAME BROKE IN TWO, CAUSING S...         V      0   \n",
       "\n",
       "   inv_date  \n",
       "0         0  \n",
       "1         0  \n",
       "2         0  \n",
       "3         0  \n",
       "4         0  "
      ]
     },
     "execution_count": 7,
     "metadata": {},
     "output_type": "execute_result"
    }
   ],
   "source": [
    "df_rcl1.head()"
   ]
  },
  {
   "cell_type": "code",
   "execution_count": 8,
   "metadata": {},
   "outputs": [
    {
     "data": {
      "text/html": [
       "<div>\n",
       "<style scoped>\n",
       "    .dataframe tbody tr th:only-of-type {\n",
       "        vertical-align: middle;\n",
       "    }\n",
       "\n",
       "    .dataframe tbody tr th {\n",
       "        vertical-align: top;\n",
       "    }\n",
       "\n",
       "    .dataframe thead th {\n",
       "        text-align: right;\n",
       "    }\n",
       "</style>\n",
       "<table border=\"1\" class=\"dataframe\">\n",
       "  <thead>\n",
       "    <tr style=\"text-align: right;\">\n",
       "      <th></th>\n",
       "      <th>Unnamed: 0</th>\n",
       "      <th>CMPLID</th>\n",
       "      <th>MAKE</th>\n",
       "      <th>MODEL</th>\n",
       "      <th>YEAR</th>\n",
       "      <th>COMP_NAME</th>\n",
       "      <th>INJURED</th>\n",
       "      <th>DEATHS</th>\n",
       "      <th>DATEA</th>\n",
       "      <th>LDATE</th>\n",
       "      <th>MILES</th>\n",
       "      <th>CDESCR</th>\n",
       "      <th>PROD_TYPE</th>\n",
       "      <th>label</th>\n",
       "      <th>inv_date</th>\n",
       "    </tr>\n",
       "  </thead>\n",
       "  <tbody>\n",
       "    <tr>\n",
       "      <th>0</th>\n",
       "      <td>103555</td>\n",
       "      <td>1103556</td>\n",
       "      <td>CHEVROLET</td>\n",
       "      <td>IMPALA</td>\n",
       "      <td>2011</td>\n",
       "      <td>ELECTRICAL SYSTEM</td>\n",
       "      <td>0</td>\n",
       "      <td>0</td>\n",
       "      <td>20140828</td>\n",
       "      <td>20140828</td>\n",
       "      <td>42000.0</td>\n",
       "      <td>TL* THE CONTACT OWNS A 2011 CHEVROLET IMPALA. ...</td>\n",
       "      <td>V</td>\n",
       "      <td>0</td>\n",
       "      <td>0</td>\n",
       "    </tr>\n",
       "    <tr>\n",
       "      <th>1</th>\n",
       "      <td>103556</td>\n",
       "      <td>1103557</td>\n",
       "      <td>GMC</td>\n",
       "      <td>YUKON DENALI</td>\n",
       "      <td>2004</td>\n",
       "      <td>ELECTRICAL SYSTEM</td>\n",
       "      <td>1</td>\n",
       "      <td>0</td>\n",
       "      <td>20140828</td>\n",
       "      <td>20140828</td>\n",
       "      <td>136000.0</td>\n",
       "      <td>AT APPROXIMATELY 1:54 PM I WAS LEAVING WORK AN...</td>\n",
       "      <td>V</td>\n",
       "      <td>0</td>\n",
       "      <td>0</td>\n",
       "    </tr>\n",
       "    <tr>\n",
       "      <th>2</th>\n",
       "      <td>103557</td>\n",
       "      <td>1103558</td>\n",
       "      <td>CADILLAC</td>\n",
       "      <td>DEVILLE</td>\n",
       "      <td>2005</td>\n",
       "      <td>ELECTRICAL SYSTEM:IGNITION</td>\n",
       "      <td>0</td>\n",
       "      <td>0</td>\n",
       "      <td>20140828</td>\n",
       "      <td>20140828</td>\n",
       "      <td>111808.0</td>\n",
       "      <td>TL* THE CONTACT OWNS A 2005 CADILLAC DEVILLE. ...</td>\n",
       "      <td>V</td>\n",
       "      <td>0</td>\n",
       "      <td>0</td>\n",
       "    </tr>\n",
       "    <tr>\n",
       "      <th>3</th>\n",
       "      <td>103558</td>\n",
       "      <td>1103559</td>\n",
       "      <td>CADILLAC</td>\n",
       "      <td>DEVILLE</td>\n",
       "      <td>2005</td>\n",
       "      <td>STEERING</td>\n",
       "      <td>0</td>\n",
       "      <td>0</td>\n",
       "      <td>20140828</td>\n",
       "      <td>20140828</td>\n",
       "      <td>111808.0</td>\n",
       "      <td>TL* THE CONTACT OWNS A 2005 CADILLAC DEVILLE. ...</td>\n",
       "      <td>V</td>\n",
       "      <td>0</td>\n",
       "      <td>0</td>\n",
       "    </tr>\n",
       "    <tr>\n",
       "      <th>4</th>\n",
       "      <td>103559</td>\n",
       "      <td>1103560</td>\n",
       "      <td>CADILLAC</td>\n",
       "      <td>DEVILLE</td>\n",
       "      <td>2005</td>\n",
       "      <td>AIR BAGS</td>\n",
       "      <td>0</td>\n",
       "      <td>0</td>\n",
       "      <td>20140828</td>\n",
       "      <td>20140828</td>\n",
       "      <td>111808.0</td>\n",
       "      <td>TL* THE CONTACT OWNS A 2005 CADILLAC DEVILLE. ...</td>\n",
       "      <td>V</td>\n",
       "      <td>0</td>\n",
       "      <td>0</td>\n",
       "    </tr>\n",
       "  </tbody>\n",
       "</table>\n",
       "</div>"
      ],
      "text/plain": [
       "   Unnamed: 0   CMPLID       MAKE         MODEL  YEAR  \\\n",
       "0      103555  1103556  CHEVROLET        IMPALA  2011   \n",
       "1      103556  1103557        GMC  YUKON DENALI  2004   \n",
       "2      103557  1103558   CADILLAC       DEVILLE  2005   \n",
       "3      103558  1103559   CADILLAC       DEVILLE  2005   \n",
       "4      103559  1103560   CADILLAC       DEVILLE  2005   \n",
       "\n",
       "                    COMP_NAME  INJURED  DEATHS     DATEA     LDATE     MILES  \\\n",
       "0           ELECTRICAL SYSTEM        0       0  20140828  20140828   42000.0   \n",
       "1           ELECTRICAL SYSTEM        1       0  20140828  20140828  136000.0   \n",
       "2  ELECTRICAL SYSTEM:IGNITION        0       0  20140828  20140828  111808.0   \n",
       "3                    STEERING        0       0  20140828  20140828  111808.0   \n",
       "4                    AIR BAGS        0       0  20140828  20140828  111808.0   \n",
       "\n",
       "                                              CDESCR PROD_TYPE  label  \\\n",
       "0  TL* THE CONTACT OWNS A 2011 CHEVROLET IMPALA. ...         V      0   \n",
       "1  AT APPROXIMATELY 1:54 PM I WAS LEAVING WORK AN...         V      0   \n",
       "2  TL* THE CONTACT OWNS A 2005 CADILLAC DEVILLE. ...         V      0   \n",
       "3  TL* THE CONTACT OWNS A 2005 CADILLAC DEVILLE. ...         V      0   \n",
       "4  TL* THE CONTACT OWNS A 2005 CADILLAC DEVILLE. ...         V      0   \n",
       "\n",
       "   inv_date  \n",
       "0         0  \n",
       "1         0  \n",
       "2         0  \n",
       "3         0  \n",
       "4         0  "
      ]
     },
     "execution_count": 8,
     "metadata": {},
     "output_type": "execute_result"
    }
   ],
   "source": [
    "df_rcl2.head()"
   ]
  },
  {
   "cell_type": "code",
   "execution_count": 9,
   "metadata": {},
   "outputs": [],
   "source": [
    "df_rcl = pd.concat([df_rcl1,df_rcl2],ignore_index = True)"
   ]
  },
  {
   "cell_type": "code",
   "execution_count": 11,
   "metadata": {},
   "outputs": [
    {
     "data": {
      "text/plain": [
       "ELECTRICAL SYSTEM                                                                   130593\n",
       "ENGINE                                                                              105679\n",
       "AIR BAGS                                                                            101914\n",
       "POWER TRAIN                                                                          95413\n",
       "STEERING                                                                             92245\n",
       "                                                                                     ...  \n",
       "EQUIPMENT:RECREATIONAL VEHICLE/TRAILER:120/240 VAC ELECTRICAL SYSTEM:INVERTER            1\n",
       "ELECTRICAL SYSTEM:PROPULSION SYSTEM:TRACTION BATTERY THERMAL:MANAGEMENT:SOFTWARE         1\n",
       "ELECTRICAL SYSTEM:ADAS:PARKING ASSIST:SOFTWARE                                           1\n",
       "FUEL SYSTEM, GASOLINE:FUEL INJECTION SYSTEM:MASS AIR FLOW (MAF) SENSOR                   1\n",
       "ENGINE AND ENGINE COOLING:ENGINE:OTHER FUEL TYPES:TURBO/SUPERCHARGER:INTERCOOLER         1\n",
       "Name: COMP_NAME, Length: 618, dtype: int64"
      ]
     },
     "execution_count": 11,
     "metadata": {},
     "output_type": "execute_result"
    }
   ],
   "source": [
    "df_rcl['COMP_NAME'].value_counts()"
   ]
  },
  {
   "cell_type": "markdown",
   "metadata": {},
   "source": [
    "리콜부품대분류"
   ]
  },
  {
   "cell_type": "code",
   "execution_count": 12,
   "metadata": {},
   "outputs": [
    {
     "name": "stderr",
     "output_type": "stream",
     "text": [
      "100%|██████████████████████████████████████████████████████████████████████| 1700773/1700773 [03:41<00:00, 7691.82it/s]\n"
     ]
    }
   ],
   "source": [
    "from tqdm import tqdm \n",
    "\n",
    "for i in tqdm(range(len(df_rcl))):\n",
    "    cp = df_rcl.loc[i,'COMP_NAME']\n",
    "    if ':' in cp:\n",
    "        cp = cp.split(':')[0]\n",
    "        df_rcl.loc[i,'COMPNAME'] = ''.join(cp)"
   ]
  },
  {
   "cell_type": "code",
   "execution_count": 13,
   "metadata": {},
   "outputs": [
    {
     "data": {
      "text/plain": [
       "ENGINE AND ENGINE COOLING       75998\n",
       "POWER TRAIN                     75668\n",
       "SERVICE BRAKES, HYDRAULIC       74254\n",
       "STRUCTURE                       71071\n",
       "ELECTRICAL SYSTEM               52044\n",
       "VISIBILITY                      40391\n",
       "SUSPENSION                      36517\n",
       "AIR BAGS                        26287\n",
       "STEERING                        24116\n",
       "FUEL SYSTEM, GASOLINE           23366\n",
       "EXTERIOR LIGHTING               17790\n",
       "SEAT BELTS                      15828\n",
       "TIRES                           14616\n",
       "EQUIPMENT                       14415\n",
       "VEHICLE SPEED CONTROL           10632\n",
       "LATCHES/LOCKS/LINKAGES          10165\n",
       "SEATS                            6718\n",
       "FORWARD COLLISION AVOIDANCE      6601\n",
       "WHEELS                           4321\n",
       "SERVICE BRAKES, AIR              3457\n",
       "FUEL SYSTEM, OTHER               2892\n",
       "PARKING BRAKE                    1823\n",
       "LANE DEPARTURE                   1489\n",
       "BACK OVER PREVENTION             1151\n",
       "CHILD SEAT                        490\n",
       "ELECTRONIC STABILITY CONTROL      333\n",
       "FUEL SYSTEM, DIESEL               204\n",
       "HYBRID PROPULSION SYSTEM           74\n",
       "TRAILER HITCHES                    71\n",
       "COMMUNICATION                       8\n",
       "EQUIPMENT ADAPTIVE/MOBILITY         6\n",
       "OTHER                               4\n",
       "SERVICE BRAKES, ELECTRIC            3\n",
       "Name: COMPNAME, dtype: int64"
      ]
     },
     "execution_count": 13,
     "metadata": {},
     "output_type": "execute_result"
    }
   ],
   "source": [
    "df_rcl['COMPNAME'].value_counts()"
   ]
  },
  {
   "cell_type": "code",
   "execution_count": 15,
   "metadata": {},
   "outputs": [],
   "source": [
    "df_rcl.to_pickle('df_cmpl.pickle')"
   ]
  },
  {
   "cell_type": "code",
   "execution_count": 16,
   "metadata": {},
   "outputs": [],
   "source": [
    "df_recall = pd.read_pickle('df_rcl')"
   ]
  },
  {
   "cell_type": "code",
   "execution_count": 18,
   "metadata": {},
   "outputs": [
    {
     "data": {
      "text/plain": [
       "ELECTRICAL SYSTEM:SOFTWARE                                                      18620\n",
       "COMMUNICATION: AUTO CRASH NOTIFICATION                                          16630\n",
       "EQUIPMENT                                                                       11714\n",
       "EQUIPMENT:RECREATIONAL VEHICLE/TRAILER                                           7787\n",
       "EQUIPMENT ADAPTIVE/MOBILITY                                                      5198\n",
       "                                                                                ...  \n",
       "ELECTRICAL SYSTEM:CYBERSECURITY                                                     1\n",
       "Tether, Lower Anchor (on car seat or vehicle)                                       1\n",
       "POWER TRAIN:AUTOMATIC TRANSMISSION:INTERNAL:PARK PRAWL                              1\n",
       "PARKING BRAKE:CRITICAL FASTENERS                                                    1\n",
       "ENGINE AND ENGINE COOLING:ENGINE:OIL/LUBRICATION:PRESSURE/TEMPERATURE SENSOR        1\n",
       "Name: COMPNAME, Length: 563, dtype: int64"
      ]
     },
     "execution_count": 18,
     "metadata": {},
     "output_type": "execute_result"
    }
   ],
   "source": [
    "df_recall['COMPNAME'].value_counts()"
   ]
  },
  {
   "cell_type": "code",
   "execution_count": 19,
   "metadata": {},
   "outputs": [
    {
     "name": "stderr",
     "output_type": "stream",
     "text": [
      "100%|████████████████████████████████████████████████████████████████████████| 232184/232184 [01:08<00:00, 3413.93it/s]\n"
     ]
    }
   ],
   "source": [
    "from tqdm import tqdm \n",
    "\n",
    "for i in tqdm(range(len(df_recall))):\n",
    "    cp = df_recall.loc[i,'COMPNAME']\n",
    "    if ':' in cp:\n",
    "        cp = cp.split(':')[0]\n",
    "        df_recall.loc[i,'COMPNAME'] = ''.join(cp)"
   ]
  },
  {
   "cell_type": "code",
   "execution_count": 20,
   "metadata": {},
   "outputs": [
    {
     "data": {
      "text/plain": [
       "ELECTRICAL SYSTEM                                33492\n",
       "EQUIPMENT                                        30131\n",
       "COMMUNICATION                                    17175\n",
       "EXTERIOR LIGHTING                                13603\n",
       "AIR BAGS                                         12652\n",
       "STEERING                                         10976\n",
       "FUEL SYSTEM, GASOLINE                            10080\n",
       "SERVICE BRAKES, HYDRAULIC                         9703\n",
       "SEAT BELTS                                        9152\n",
       "SUSPENSION                                        8764\n",
       "ENGINE AND ENGINE COOLING                         8721\n",
       "STRUCTURE                                         8643\n",
       "POWER TRAIN                                       6947\n",
       "SERVICE BRAKES, AIR                               6705\n",
       "TIRES                                             5419\n",
       "EQUIPMENT ADAPTIVE/MOBILITY                       5261\n",
       "VISIBILITY                                        4751\n",
       "SEATS                                             4413\n",
       "VEHICLE SPEED CONTROL                             3568\n",
       "LATCHES/LOCKS/LINKAGES                            3390\n",
       "WHEELS                                            2922\n",
       "BACK OVER PREVENTION                              2425\n",
       "FUEL SYSTEM, DIESEL                               2119\n",
       "TRAILER HITCHES                                   1897\n",
       "FUEL SYSTEM, OTHER                                1714\n",
       "PARKING BRAKE                                     1622\n",
       "ELECTRONIC STABILITY CONTROL                      1352\n",
       "CHILD SEAT                                        1071\n",
       "UNKNOWN OR OTHER                                   700\n",
       "ENGINE                                             526\n",
       "SERVICE BRAKES                                     500\n",
       "INTERIOR LIGHTING                                  428\n",
       "VISIBILITY/WIPER                                   326\n",
       "OTHER                                              310\n",
       "HYBRID PROPULSION SYSTEM                           256\n",
       "FORWARD COLLISION AVOIDANCE                        253\n",
       "SERVICE BRAKES, ELECTRIC                           150\n",
       "TRACTION CONTROL SYSTEM                             32\n",
       "LANE DEPARTURE                                      31\n",
       "TBD                                                  3\n",
       "Tether, Lower Anchor (on car seat or vehicle)        1\n",
       "Name: COMPNAME, dtype: int64"
      ]
     },
     "execution_count": 20,
     "metadata": {},
     "output_type": "execute_result"
    }
   ],
   "source": [
    "df_recall['COMPNAME'].value_counts()"
   ]
  },
  {
   "cell_type": "code",
   "execution_count": 21,
   "metadata": {},
   "outputs": [],
   "source": [
    "df_recall.to_pickle('df_recall.pickle')"
   ]
  },
  {
   "cell_type": "code",
   "execution_count": null,
   "metadata": {},
   "outputs": [],
   "source": []
  },
  {
   "cell_type": "code",
   "execution_count": null,
   "metadata": {},
   "outputs": [],
   "source": []
  },
  {
   "cell_type": "code",
   "execution_count": null,
   "metadata": {},
   "outputs": [],
   "source": []
  }
 ],
 "metadata": {
  "kernelspec": {
   "display_name": "Python 3",
   "language": "python",
   "name": "python3"
  },
  "language_info": {
   "codemirror_mode": {
    "name": "ipython",
    "version": 3
   },
   "file_extension": ".py",
   "mimetype": "text/x-python",
   "name": "python",
   "nbconvert_exporter": "python",
   "pygments_lexer": "ipython3",
   "version": "3.8.5"
  }
 },
 "nbformat": 4,
 "nbformat_minor": 4
}
